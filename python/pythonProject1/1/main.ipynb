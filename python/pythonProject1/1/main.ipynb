{
 "cells": [
  {
   "cell_type": "code",
   "id": "initial_id",
   "metadata": {
    "collapsed": true,
    "ExecuteTime": {
     "end_time": "2025-03-20T06:34:05.187121Z",
     "start_time": "2025-03-20T06:34:04.997587Z"
    }
   },
   "source": [
    "import timeit\n",
    "import math\n",
    "import numpy as np"
   ],
   "outputs": [],
   "execution_count": 3
  },
  {
   "metadata": {
    "ExecuteTime": {
     "end_time": "2025-03-20T06:35:51.347831Z",
     "start_time": "2025-03-20T06:35:51.291741Z"
    }
   },
   "cell_type": "code",
   "source": "xArr = np.linspace(0, 1, 10000000)",
   "id": "d3dbf8ab20b666fe",
   "outputs": [],
   "execution_count": 14
  },
  {
   "metadata": {
    "ExecuteTime": {
     "end_time": "2025-03-20T06:34:14.570964Z",
     "start_time": "2025-03-20T06:34:14.563453Z"
    }
   },
   "cell_type": "code",
   "source": [
    "def integrate(f, xArr):\n",
    "    dx = xArr[1] - xArr[0]\n",
    "    return sum(f(4 / (1+ x * x)) * dx for x in xArr)"
   ],
   "id": "efb15f054b580e94",
   "outputs": [],
   "execution_count": 6
  },
  {
   "metadata": {
    "ExecuteTime": {
     "end_time": "2025-03-20T06:34:15.130644Z",
     "start_time": "2025-03-20T06:34:15.112606Z"
    }
   },
   "cell_type": "code",
   "source": [
    "def f0(x):\n",
    "    return x\n",
    "def f1(x):\n",
    "    return x + 3\n",
    "def f2(x):\n",
    "    return x - 3\n",
    "def f3(x):\n",
    "    return x * 5\n",
    "def f4(x):\n",
    "    return np.sin(x)\n",
    "def f5(x):\n",
    "    return np.log(x)\n",
    "def f6(x):\n",
    "    return np.power(x, 3)\n",
    "def f7(x):\n",
    "    return np.exp(x)"
   ],
   "id": "3baad18679e31e10",
   "outputs": [],
   "execution_count": 7
  },
  {
   "metadata": {
    "ExecuteTime": {
     "end_time": "2025-03-20T06:34:16.372604Z",
     "start_time": "2025-03-20T06:34:16.360073Z"
    }
   },
   "cell_type": "code",
   "source": [
    "tests = {\n",
    "    \"Integration f1\": lambda: integrate(f1, xArr),\n",
    "    \"Integration f2\": lambda: integrate(f2, xArr),\n",
    "    \"Integration f3\": lambda: integrate(f3, xArr),\n",
    "    \"Integration f4\": lambda: integrate(f4, xArr),\n",
    "    \"Integration f5\": lambda: integrate(f5, xArr),\n",
    "    \"Integration f6\": lambda: integrate(f6, xArr),\n",
    "    \"Integration f7\": lambda: integrate(f7, xArr),\n",
    "}"
   ],
   "id": "77e31d1246a3963c",
   "outputs": [],
   "execution_count": 8
  },
  {
   "metadata": {
    "ExecuteTime": {
     "end_time": "2025-03-20T06:39:23.363535Z",
     "start_time": "2025-03-20T06:39:20.698458Z"
    }
   },
   "cell_type": "code",
   "source": [
    "time_0 = timeit.timeit(lambda: integrate(f0, xArr), number=1)\n",
    "print(f\"Integration f0: {time_0:.6f} sec\")"
   ],
   "id": "7439d1bd5e939b4",
   "outputs": [
    {
     "name": "stdout",
     "output_type": "stream",
     "text": [
      "Integration f0: 2.659115 sec\n"
     ]
    }
   ],
   "execution_count": 17
  },
  {
   "metadata": {
    "ExecuteTime": {
     "end_time": "2025-03-20T06:40:10.339228Z",
     "start_time": "2025-03-20T06:39:27.517632Z"
    }
   },
   "cell_type": "code",
   "source": [
    "for test_name, func in tests.items():\n",
    "    time_taken = timeit.timeit(func, number=1)\n",
    "    print(f\"{test_name}: {time_taken:.6f} sec, difference: {time_taken - time_0:.6f}\")"
   ],
   "id": "72b7d85752f5d615",
   "outputs": [
    {
     "name": "stdout",
     "output_type": "stream",
     "text": [
      "Integration f1: 2.940153 sec, difference: 0.281038\n",
      "Integration f2: 2.973479 sec, difference: 0.314365\n",
      "Integration f3: 2.902320 sec, difference: 0.243205\n",
      "Integration f4: 7.120626 sec, difference: 4.461512\n",
      "Integration f5: 8.817898 sec, difference: 6.158783\n",
      "Integration f6: 10.847372 sec, difference: 8.188257\n",
      "Integration f7: 7.210857 sec, difference: 4.551743\n"
     ]
    }
   ],
   "execution_count": 18
  },
  {
   "metadata": {},
   "cell_type": "code",
   "outputs": [],
   "execution_count": null,
   "source": "",
   "id": "41d2fda6e17412f2"
  }
 ],
 "metadata": {
  "kernelspec": {
   "display_name": "Python 3",
   "language": "python",
   "name": "python3"
  },
  "language_info": {
   "codemirror_mode": {
    "name": "ipython",
    "version": 2
   },
   "file_extension": ".py",
   "mimetype": "text/x-python",
   "name": "python",
   "nbconvert_exporter": "python",
   "pygments_lexer": "ipython2",
   "version": "2.7.6"
  }
 },
 "nbformat": 4,
 "nbformat_minor": 5
}
